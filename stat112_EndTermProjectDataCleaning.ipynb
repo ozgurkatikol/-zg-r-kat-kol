{
  "nbformat": 4,
  "nbformat_minor": 0,
  "metadata": {
    "colab": {
      "provenance": []
    },
    "kernelspec": {
      "name": "python3",
      "display_name": "Python 3"
    },
    "language_info": {
      "name": "python"
    }
  },
  "cells": [
    {
      "cell_type": "markdown",
      "source": [
        "**STAT112-TERM PROJECT**\n",
        "\n",
        "BAŞAK KABALOĞLU-FURKAN KAZANCIOĞLU-ÖZGÜR KATIKOL-SABAHATTİN ALP KOCABAŞ"
      ],
      "metadata": {
        "id": "e21LLp-tYXWJ"
      }
    },
    {
      "cell_type": "markdown",
      "source": [
        "# Data Cleaning"
      ],
      "metadata": {
        "id": "GmeOFJehvFFJ"
      }
    },
    {
      "cell_type": "markdown",
      "source": [
        "#PROJECT"
      ],
      "metadata": {
        "id": "hufeYfe2VcGO"
      }
    },
    {
      "cell_type": "code",
      "execution_count": null,
      "metadata": {
        "id": "JWo92_FDK79C"
      },
      "outputs": [],
      "source": [
        "import pandas as pd\n",
        "import numpy as np\n",
        "from statistics import mode\n",
        "\n",
        "nba= pd.read_excel('nba_salary.xlsx')\n",
        "\n",
        "#We imported the necessary Python libraries and read the dirty data with Pandas. "
      ]
    },
    {
      "cell_type": "code",
      "source": [
        "nba.info()  \n",
        "#We examined data types and variables by using .info()."
      ],
      "metadata": {
        "colab": {
          "base_uri": "https://localhost:8080/"
        },
        "id": "n8TUZ6KdW4gR",
        "outputId": "3c9fdfaa-efdf-483d-bb02-0b42caedfe5c"
      },
      "execution_count": null,
      "outputs": [
        {
          "output_type": "stream",
          "name": "stdout",
          "text": [
            "<class 'pandas.core.frame.DataFrame'>\n",
            "RangeIndex: 161 entries, 0 to 160\n",
            "Data columns (total 31 columns):\n",
            " #   Column      Non-Null Count  Dtype  \n",
            "---  ------      --------------  -----  \n",
            " 0   Pos         155 non-null    object \n",
            " 1   Salary      113 non-null    float64\n",
            " 2   Age         144 non-null    float64\n",
            " 3   Tm          141 non-null    object \n",
            " 4   G           157 non-null    float64\n",
            " 5   GS          144 non-null    float64\n",
            " 6   MP          139 non-null    float64\n",
            " 7   FG          142 non-null    float64\n",
            " 8   FGA         141 non-null    float64\n",
            " 9   FG%         144 non-null    float64\n",
            " 10  3P          139 non-null    float64\n",
            " 11  3PA         141 non-null    float64\n",
            " 12  3P%         129 non-null    float64\n",
            " 13  2P          142 non-null    float64\n",
            " 14  2PA         147 non-null    float64\n",
            " 15  2P%         139 non-null    float64\n",
            " 16  eFG%        136 non-null    float64\n",
            " 17  FT          143 non-null    float64\n",
            " 18  FTA         142 non-null    float64\n",
            " 19  FT%         132 non-null    float64\n",
            " 20  ORB         144 non-null    float64\n",
            " 21  DRB         142 non-null    float64\n",
            " 22  TRB         148 non-null    float64\n",
            " 23  AST         148 non-null    float64\n",
            " 24  STL         141 non-null    float64\n",
            " 25  BLK         136 non-null    float64\n",
            " 26  TOV         142 non-null    float64\n",
            " 27  PF          141 non-null    float64\n",
            " 28  PTS         142 non-null    float64\n",
            " 29  Conference  144 non-null    object \n",
            " 30  Division    142 non-null    object \n",
            "dtypes: float64(27), object(4)\n",
            "memory usage: 39.1+ KB\n"
          ]
        }
      ]
    },
    {
      "cell_type": "code",
      "source": [
        "nba.head() \n",
        "#We checked if the data was imported correctly by using .head() and .tail(). \n",
        "#We checked for any issues with the data's separation arguments, the presence of headers, and the presence of NAs in the dataset."
      ],
      "metadata": {
        "colab": {
          "base_uri": "https://localhost:8080/",
          "height": 235
        },
        "id": "LlOb-IYlW5kH",
        "outputId": "1f61acba-1b29-4aef-a656-7e8f4d02aa05"
      },
      "execution_count": null,
      "outputs": [
        {
          "output_type": "execute_result",
          "data": {
            "text/plain": [
              "  Pos      Salary   Age   Tm     G    GS    MP   FG   FGA    FG%  ...  DRB  \\\n",
              "0  PF   2711280.0  21.0  MIA  61.0   4.0  12.1  2.0   3.7  0.544  ...  2.2   \n",
              "1  PG         NaN  24.0  NaN   7.0   0.0   2.6  0.1   1.1  0.125  ...  0.4   \n",
              "2   C  17073171.0  27.0  NaN  58.0  58.0  27.7  3.3   5.3    NaN  ...  5.2   \n",
              "3   C  28103550.0  23.0  MIA  64.0  64.0  33.5  7.1  12.5  0.570  ...  6.7   \n",
              "4   C   2641691.0  35.0  SAS  21.0  18.0  25.9  5.5  11.8  0.464  ...  3.7   \n",
              "\n",
              "   TRB  AST  STL  BLK  TOV   PF   PTS          Conference            Division  \n",
              "0  3.4  0.5  NaN  0.5  0.7  1.5   5.0  Eastern Conference  Southeast Division  \n",
              "1  0.4  0.3  0.0  0.0  0.0  0.1   0.3  Eastern Conference                 NaN  \n",
              "2  8.9  1.9  0.9  0.7  1.3  1.9   7.6  Western Conference  Southwest Division  \n",
              "3  9.0  5.4  1.2  1.0  2.6  2.3  18.7  Eastern Conference  Southeast Division  \n",
              "4  4.5  1.7  0.4  0.9  NaN  1.7   NaN  Western Conference  Southwest DIVISION  \n",
              "\n",
              "[5 rows x 31 columns]"
            ],
            "text/html": [
              "\n",
              "  <div id=\"df-e0250ac3-1f33-4d93-aa17-13e2279ff02c\">\n",
              "    <div class=\"colab-df-container\">\n",
              "      <div>\n",
              "<style scoped>\n",
              "    .dataframe tbody tr th:only-of-type {\n",
              "        vertical-align: middle;\n",
              "    }\n",
              "\n",
              "    .dataframe tbody tr th {\n",
              "        vertical-align: top;\n",
              "    }\n",
              "\n",
              "    .dataframe thead th {\n",
              "        text-align: right;\n",
              "    }\n",
              "</style>\n",
              "<table border=\"1\" class=\"dataframe\">\n",
              "  <thead>\n",
              "    <tr style=\"text-align: right;\">\n",
              "      <th></th>\n",
              "      <th>Pos</th>\n",
              "      <th>Salary</th>\n",
              "      <th>Age</th>\n",
              "      <th>Tm</th>\n",
              "      <th>G</th>\n",
              "      <th>GS</th>\n",
              "      <th>MP</th>\n",
              "      <th>FG</th>\n",
              "      <th>FGA</th>\n",
              "      <th>FG%</th>\n",
              "      <th>...</th>\n",
              "      <th>DRB</th>\n",
              "      <th>TRB</th>\n",
              "      <th>AST</th>\n",
              "      <th>STL</th>\n",
              "      <th>BLK</th>\n",
              "      <th>TOV</th>\n",
              "      <th>PF</th>\n",
              "      <th>PTS</th>\n",
              "      <th>Conference</th>\n",
              "      <th>Division</th>\n",
              "    </tr>\n",
              "  </thead>\n",
              "  <tbody>\n",
              "    <tr>\n",
              "      <th>0</th>\n",
              "      <td>PF</td>\n",
              "      <td>2711280.0</td>\n",
              "      <td>21.0</td>\n",
              "      <td>MIA</td>\n",
              "      <td>61.0</td>\n",
              "      <td>4.0</td>\n",
              "      <td>12.1</td>\n",
              "      <td>2.0</td>\n",
              "      <td>3.7</td>\n",
              "      <td>0.544</td>\n",
              "      <td>...</td>\n",
              "      <td>2.2</td>\n",
              "      <td>3.4</td>\n",
              "      <td>0.5</td>\n",
              "      <td>NaN</td>\n",
              "      <td>0.5</td>\n",
              "      <td>0.7</td>\n",
              "      <td>1.5</td>\n",
              "      <td>5.0</td>\n",
              "      <td>Eastern Conference</td>\n",
              "      <td>Southeast Division</td>\n",
              "    </tr>\n",
              "    <tr>\n",
              "      <th>1</th>\n",
              "      <td>PG</td>\n",
              "      <td>NaN</td>\n",
              "      <td>24.0</td>\n",
              "      <td>NaN</td>\n",
              "      <td>7.0</td>\n",
              "      <td>0.0</td>\n",
              "      <td>2.6</td>\n",
              "      <td>0.1</td>\n",
              "      <td>1.1</td>\n",
              "      <td>0.125</td>\n",
              "      <td>...</td>\n",
              "      <td>0.4</td>\n",
              "      <td>0.4</td>\n",
              "      <td>0.3</td>\n",
              "      <td>0.0</td>\n",
              "      <td>0.0</td>\n",
              "      <td>0.0</td>\n",
              "      <td>0.1</td>\n",
              "      <td>0.3</td>\n",
              "      <td>Eastern Conference</td>\n",
              "      <td>NaN</td>\n",
              "    </tr>\n",
              "    <tr>\n",
              "      <th>2</th>\n",
              "      <td>C</td>\n",
              "      <td>17073171.0</td>\n",
              "      <td>27.0</td>\n",
              "      <td>NaN</td>\n",
              "      <td>58.0</td>\n",
              "      <td>58.0</td>\n",
              "      <td>27.7</td>\n",
              "      <td>3.3</td>\n",
              "      <td>5.3</td>\n",
              "      <td>NaN</td>\n",
              "      <td>...</td>\n",
              "      <td>5.2</td>\n",
              "      <td>8.9</td>\n",
              "      <td>1.9</td>\n",
              "      <td>0.9</td>\n",
              "      <td>0.7</td>\n",
              "      <td>1.3</td>\n",
              "      <td>1.9</td>\n",
              "      <td>7.6</td>\n",
              "      <td>Western Conference</td>\n",
              "      <td>Southwest Division</td>\n",
              "    </tr>\n",
              "    <tr>\n",
              "      <th>3</th>\n",
              "      <td>C</td>\n",
              "      <td>28103550.0</td>\n",
              "      <td>23.0</td>\n",
              "      <td>MIA</td>\n",
              "      <td>64.0</td>\n",
              "      <td>64.0</td>\n",
              "      <td>33.5</td>\n",
              "      <td>7.1</td>\n",
              "      <td>12.5</td>\n",
              "      <td>0.570</td>\n",
              "      <td>...</td>\n",
              "      <td>6.7</td>\n",
              "      <td>9.0</td>\n",
              "      <td>5.4</td>\n",
              "      <td>1.2</td>\n",
              "      <td>1.0</td>\n",
              "      <td>2.6</td>\n",
              "      <td>2.3</td>\n",
              "      <td>18.7</td>\n",
              "      <td>Eastern Conference</td>\n",
              "      <td>Southeast Division</td>\n",
              "    </tr>\n",
              "    <tr>\n",
              "      <th>4</th>\n",
              "      <td>C</td>\n",
              "      <td>2641691.0</td>\n",
              "      <td>35.0</td>\n",
              "      <td>SAS</td>\n",
              "      <td>21.0</td>\n",
              "      <td>18.0</td>\n",
              "      <td>25.9</td>\n",
              "      <td>5.5</td>\n",
              "      <td>11.8</td>\n",
              "      <td>0.464</td>\n",
              "      <td>...</td>\n",
              "      <td>3.7</td>\n",
              "      <td>4.5</td>\n",
              "      <td>1.7</td>\n",
              "      <td>0.4</td>\n",
              "      <td>0.9</td>\n",
              "      <td>NaN</td>\n",
              "      <td>1.7</td>\n",
              "      <td>NaN</td>\n",
              "      <td>Western Conference</td>\n",
              "      <td>Southwest DIVISION</td>\n",
              "    </tr>\n",
              "  </tbody>\n",
              "</table>\n",
              "<p>5 rows × 31 columns</p>\n",
              "</div>\n",
              "      <button class=\"colab-df-convert\" onclick=\"convertToInteractive('df-e0250ac3-1f33-4d93-aa17-13e2279ff02c')\"\n",
              "              title=\"Convert this dataframe to an interactive table.\"\n",
              "              style=\"display:none;\">\n",
              "        \n",
              "  <svg xmlns=\"http://www.w3.org/2000/svg\" height=\"24px\"viewBox=\"0 0 24 24\"\n",
              "       width=\"24px\">\n",
              "    <path d=\"M0 0h24v24H0V0z\" fill=\"none\"/>\n",
              "    <path d=\"M18.56 5.44l.94 2.06.94-2.06 2.06-.94-2.06-.94-.94-2.06-.94 2.06-2.06.94zm-11 1L8.5 8.5l.94-2.06 2.06-.94-2.06-.94L8.5 2.5l-.94 2.06-2.06.94zm10 10l.94 2.06.94-2.06 2.06-.94-2.06-.94-.94-2.06-.94 2.06-2.06.94z\"/><path d=\"M17.41 7.96l-1.37-1.37c-.4-.4-.92-.59-1.43-.59-.52 0-1.04.2-1.43.59L10.3 9.45l-7.72 7.72c-.78.78-.78 2.05 0 2.83L4 21.41c.39.39.9.59 1.41.59.51 0 1.02-.2 1.41-.59l7.78-7.78 2.81-2.81c.8-.78.8-2.07 0-2.86zM5.41 20L4 18.59l7.72-7.72 1.47 1.35L5.41 20z\"/>\n",
              "  </svg>\n",
              "      </button>\n",
              "      \n",
              "  <style>\n",
              "    .colab-df-container {\n",
              "      display:flex;\n",
              "      flex-wrap:wrap;\n",
              "      gap: 12px;\n",
              "    }\n",
              "\n",
              "    .colab-df-convert {\n",
              "      background-color: #E8F0FE;\n",
              "      border: none;\n",
              "      border-radius: 50%;\n",
              "      cursor: pointer;\n",
              "      display: none;\n",
              "      fill: #1967D2;\n",
              "      height: 32px;\n",
              "      padding: 0 0 0 0;\n",
              "      width: 32px;\n",
              "    }\n",
              "\n",
              "    .colab-df-convert:hover {\n",
              "      background-color: #E2EBFA;\n",
              "      box-shadow: 0px 1px 2px rgba(60, 64, 67, 0.3), 0px 1px 3px 1px rgba(60, 64, 67, 0.15);\n",
              "      fill: #174EA6;\n",
              "    }\n",
              "\n",
              "    [theme=dark] .colab-df-convert {\n",
              "      background-color: #3B4455;\n",
              "      fill: #D2E3FC;\n",
              "    }\n",
              "\n",
              "    [theme=dark] .colab-df-convert:hover {\n",
              "      background-color: #434B5C;\n",
              "      box-shadow: 0px 1px 3px 1px rgba(0, 0, 0, 0.15);\n",
              "      filter: drop-shadow(0px 1px 2px rgba(0, 0, 0, 0.3));\n",
              "      fill: #FFFFFF;\n",
              "    }\n",
              "  </style>\n",
              "\n",
              "      <script>\n",
              "        const buttonEl =\n",
              "          document.querySelector('#df-e0250ac3-1f33-4d93-aa17-13e2279ff02c button.colab-df-convert');\n",
              "        buttonEl.style.display =\n",
              "          google.colab.kernel.accessAllowed ? 'block' : 'none';\n",
              "\n",
              "        async function convertToInteractive(key) {\n",
              "          const element = document.querySelector('#df-e0250ac3-1f33-4d93-aa17-13e2279ff02c');\n",
              "          const dataTable =\n",
              "            await google.colab.kernel.invokeFunction('convertToInteractive',\n",
              "                                                     [key], {});\n",
              "          if (!dataTable) return;\n",
              "\n",
              "          const docLinkHtml = 'Like what you see? Visit the ' +\n",
              "            '<a target=\"_blank\" href=https://colab.research.google.com/notebooks/data_table.ipynb>data table notebook</a>'\n",
              "            + ' to learn more about interactive tables.';\n",
              "          element.innerHTML = '';\n",
              "          dataTable['output_type'] = 'display_data';\n",
              "          await google.colab.output.renderOutput(dataTable, element);\n",
              "          const docLink = document.createElement('div');\n",
              "          docLink.innerHTML = docLinkHtml;\n",
              "          element.appendChild(docLink);\n",
              "        }\n",
              "      </script>\n",
              "    </div>\n",
              "  </div>\n",
              "  "
            ]
          },
          "metadata": {},
          "execution_count": 3
        }
      ]
    },
    {
      "cell_type": "code",
      "source": [
        "nba.tail()"
      ],
      "metadata": {
        "colab": {
          "base_uri": "https://localhost:8080/",
          "height": 235
        },
        "id": "uCqFy4YhXczA",
        "outputId": "4c68eced-6cfd-47c6-f228-555e7759267d"
      },
      "execution_count": null,
      "outputs": [
        {
          "output_type": "execute_result",
          "data": {
            "text/plain": [
              "     Pos     Salary   Age   Tm     G   GS   MP   FG   FGA    FG%  ...  DRB  \\\n",
              "156    C  1782621.0  22.0  ATL  33.0  0.0  6.8  0.5   1.3  0.409  ...  1.9   \n",
              "157   PG        NaN  27.0  CLE   2.0  0.0  NaN  4.0  10.5  0.381  ...  2.0   \n",
              "158  NaN        NaN   NaN  BKN   NaN  NaN  NaN  NaN   NaN    NaN  ...  NaN   \n",
              "159  NaN        NaN   NaN  CHA   NaN  NaN  NaN  NaN   NaN    NaN  ...  NaN   \n",
              "160  NaN        NaN   NaN  PHX   NaN  NaN  NaN  NaN   NaN    NaN  ...  NaN   \n",
              "\n",
              "     TRB  AST  STL  BLK  TOV   PF  PTS          Conference            Division  \n",
              "156  2.4  0.3  0.1  0.1  0.6  0.7  1.5  Eastern Conference  Southeast Division  \n",
              "157  3.5  2.5  1.5  0.5  1.5  2.0  9.5  Eastern Conference    Central Division  \n",
              "158  NaN  NaN  NaN  NaN  NaN  NaN  NaN                 NaN   Atlantic Division  \n",
              "159  NaN  NaN  NaN  NaN  NaN  NaN  NaN  Eastern Conference  Southeast Division  \n",
              "160  NaN  NaN  NaN  NaN  NaN  NaN  NaN  Western Conference    Pacific Division  \n",
              "\n",
              "[5 rows x 31 columns]"
            ],
            "text/html": [
              "\n",
              "  <div id=\"df-303fb687-46ea-4a31-810a-8ab3aa88a531\">\n",
              "    <div class=\"colab-df-container\">\n",
              "      <div>\n",
              "<style scoped>\n",
              "    .dataframe tbody tr th:only-of-type {\n",
              "        vertical-align: middle;\n",
              "    }\n",
              "\n",
              "    .dataframe tbody tr th {\n",
              "        vertical-align: top;\n",
              "    }\n",
              "\n",
              "    .dataframe thead th {\n",
              "        text-align: right;\n",
              "    }\n",
              "</style>\n",
              "<table border=\"1\" class=\"dataframe\">\n",
              "  <thead>\n",
              "    <tr style=\"text-align: right;\">\n",
              "      <th></th>\n",
              "      <th>Pos</th>\n",
              "      <th>Salary</th>\n",
              "      <th>Age</th>\n",
              "      <th>Tm</th>\n",
              "      <th>G</th>\n",
              "      <th>GS</th>\n",
              "      <th>MP</th>\n",
              "      <th>FG</th>\n",
              "      <th>FGA</th>\n",
              "      <th>FG%</th>\n",
              "      <th>...</th>\n",
              "      <th>DRB</th>\n",
              "      <th>TRB</th>\n",
              "      <th>AST</th>\n",
              "      <th>STL</th>\n",
              "      <th>BLK</th>\n",
              "      <th>TOV</th>\n",
              "      <th>PF</th>\n",
              "      <th>PTS</th>\n",
              "      <th>Conference</th>\n",
              "      <th>Division</th>\n",
              "    </tr>\n",
              "  </thead>\n",
              "  <tbody>\n",
              "    <tr>\n",
              "      <th>156</th>\n",
              "      <td>C</td>\n",
              "      <td>1782621.0</td>\n",
              "      <td>22.0</td>\n",
              "      <td>ATL</td>\n",
              "      <td>33.0</td>\n",
              "      <td>0.0</td>\n",
              "      <td>6.8</td>\n",
              "      <td>0.5</td>\n",
              "      <td>1.3</td>\n",
              "      <td>0.409</td>\n",
              "      <td>...</td>\n",
              "      <td>1.9</td>\n",
              "      <td>2.4</td>\n",
              "      <td>0.3</td>\n",
              "      <td>0.1</td>\n",
              "      <td>0.1</td>\n",
              "      <td>0.6</td>\n",
              "      <td>0.7</td>\n",
              "      <td>1.5</td>\n",
              "      <td>Eastern Conference</td>\n",
              "      <td>Southeast Division</td>\n",
              "    </tr>\n",
              "    <tr>\n",
              "      <th>157</th>\n",
              "      <td>PG</td>\n",
              "      <td>NaN</td>\n",
              "      <td>27.0</td>\n",
              "      <td>CLE</td>\n",
              "      <td>2.0</td>\n",
              "      <td>0.0</td>\n",
              "      <td>NaN</td>\n",
              "      <td>4.0</td>\n",
              "      <td>10.5</td>\n",
              "      <td>0.381</td>\n",
              "      <td>...</td>\n",
              "      <td>2.0</td>\n",
              "      <td>3.5</td>\n",
              "      <td>2.5</td>\n",
              "      <td>1.5</td>\n",
              "      <td>0.5</td>\n",
              "      <td>1.5</td>\n",
              "      <td>2.0</td>\n",
              "      <td>9.5</td>\n",
              "      <td>Eastern Conference</td>\n",
              "      <td>Central Division</td>\n",
              "    </tr>\n",
              "    <tr>\n",
              "      <th>158</th>\n",
              "      <td>NaN</td>\n",
              "      <td>NaN</td>\n",
              "      <td>NaN</td>\n",
              "      <td>BKN</td>\n",
              "      <td>NaN</td>\n",
              "      <td>NaN</td>\n",
              "      <td>NaN</td>\n",
              "      <td>NaN</td>\n",
              "      <td>NaN</td>\n",
              "      <td>NaN</td>\n",
              "      <td>...</td>\n",
              "      <td>NaN</td>\n",
              "      <td>NaN</td>\n",
              "      <td>NaN</td>\n",
              "      <td>NaN</td>\n",
              "      <td>NaN</td>\n",
              "      <td>NaN</td>\n",
              "      <td>NaN</td>\n",
              "      <td>NaN</td>\n",
              "      <td>NaN</td>\n",
              "      <td>Atlantic Division</td>\n",
              "    </tr>\n",
              "    <tr>\n",
              "      <th>159</th>\n",
              "      <td>NaN</td>\n",
              "      <td>NaN</td>\n",
              "      <td>NaN</td>\n",
              "      <td>CHA</td>\n",
              "      <td>NaN</td>\n",
              "      <td>NaN</td>\n",
              "      <td>NaN</td>\n",
              "      <td>NaN</td>\n",
              "      <td>NaN</td>\n",
              "      <td>NaN</td>\n",
              "      <td>...</td>\n",
              "      <td>NaN</td>\n",
              "      <td>NaN</td>\n",
              "      <td>NaN</td>\n",
              "      <td>NaN</td>\n",
              "      <td>NaN</td>\n",
              "      <td>NaN</td>\n",
              "      <td>NaN</td>\n",
              "      <td>NaN</td>\n",
              "      <td>Eastern Conference</td>\n",
              "      <td>Southeast Division</td>\n",
              "    </tr>\n",
              "    <tr>\n",
              "      <th>160</th>\n",
              "      <td>NaN</td>\n",
              "      <td>NaN</td>\n",
              "      <td>NaN</td>\n",
              "      <td>PHX</td>\n",
              "      <td>NaN</td>\n",
              "      <td>NaN</td>\n",
              "      <td>NaN</td>\n",
              "      <td>NaN</td>\n",
              "      <td>NaN</td>\n",
              "      <td>NaN</td>\n",
              "      <td>...</td>\n",
              "      <td>NaN</td>\n",
              "      <td>NaN</td>\n",
              "      <td>NaN</td>\n",
              "      <td>NaN</td>\n",
              "      <td>NaN</td>\n",
              "      <td>NaN</td>\n",
              "      <td>NaN</td>\n",
              "      <td>NaN</td>\n",
              "      <td>Western Conference</td>\n",
              "      <td>Pacific Division</td>\n",
              "    </tr>\n",
              "  </tbody>\n",
              "</table>\n",
              "<p>5 rows × 31 columns</p>\n",
              "</div>\n",
              "      <button class=\"colab-df-convert\" onclick=\"convertToInteractive('df-303fb687-46ea-4a31-810a-8ab3aa88a531')\"\n",
              "              title=\"Convert this dataframe to an interactive table.\"\n",
              "              style=\"display:none;\">\n",
              "        \n",
              "  <svg xmlns=\"http://www.w3.org/2000/svg\" height=\"24px\"viewBox=\"0 0 24 24\"\n",
              "       width=\"24px\">\n",
              "    <path d=\"M0 0h24v24H0V0z\" fill=\"none\"/>\n",
              "    <path d=\"M18.56 5.44l.94 2.06.94-2.06 2.06-.94-2.06-.94-.94-2.06-.94 2.06-2.06.94zm-11 1L8.5 8.5l.94-2.06 2.06-.94-2.06-.94L8.5 2.5l-.94 2.06-2.06.94zm10 10l.94 2.06.94-2.06 2.06-.94-2.06-.94-.94-2.06-.94 2.06-2.06.94z\"/><path d=\"M17.41 7.96l-1.37-1.37c-.4-.4-.92-.59-1.43-.59-.52 0-1.04.2-1.43.59L10.3 9.45l-7.72 7.72c-.78.78-.78 2.05 0 2.83L4 21.41c.39.39.9.59 1.41.59.51 0 1.02-.2 1.41-.59l7.78-7.78 2.81-2.81c.8-.78.8-2.07 0-2.86zM5.41 20L4 18.59l7.72-7.72 1.47 1.35L5.41 20z\"/>\n",
              "  </svg>\n",
              "      </button>\n",
              "      \n",
              "  <style>\n",
              "    .colab-df-container {\n",
              "      display:flex;\n",
              "      flex-wrap:wrap;\n",
              "      gap: 12px;\n",
              "    }\n",
              "\n",
              "    .colab-df-convert {\n",
              "      background-color: #E8F0FE;\n",
              "      border: none;\n",
              "      border-radius: 50%;\n",
              "      cursor: pointer;\n",
              "      display: none;\n",
              "      fill: #1967D2;\n",
              "      height: 32px;\n",
              "      padding: 0 0 0 0;\n",
              "      width: 32px;\n",
              "    }\n",
              "\n",
              "    .colab-df-convert:hover {\n",
              "      background-color: #E2EBFA;\n",
              "      box-shadow: 0px 1px 2px rgba(60, 64, 67, 0.3), 0px 1px 3px 1px rgba(60, 64, 67, 0.15);\n",
              "      fill: #174EA6;\n",
              "    }\n",
              "\n",
              "    [theme=dark] .colab-df-convert {\n",
              "      background-color: #3B4455;\n",
              "      fill: #D2E3FC;\n",
              "    }\n",
              "\n",
              "    [theme=dark] .colab-df-convert:hover {\n",
              "      background-color: #434B5C;\n",
              "      box-shadow: 0px 1px 3px 1px rgba(0, 0, 0, 0.15);\n",
              "      filter: drop-shadow(0px 1px 2px rgba(0, 0, 0, 0.3));\n",
              "      fill: #FFFFFF;\n",
              "    }\n",
              "  </style>\n",
              "\n",
              "      <script>\n",
              "        const buttonEl =\n",
              "          document.querySelector('#df-303fb687-46ea-4a31-810a-8ab3aa88a531 button.colab-df-convert');\n",
              "        buttonEl.style.display =\n",
              "          google.colab.kernel.accessAllowed ? 'block' : 'none';\n",
              "\n",
              "        async function convertToInteractive(key) {\n",
              "          const element = document.querySelector('#df-303fb687-46ea-4a31-810a-8ab3aa88a531');\n",
              "          const dataTable =\n",
              "            await google.colab.kernel.invokeFunction('convertToInteractive',\n",
              "                                                     [key], {});\n",
              "          if (!dataTable) return;\n",
              "\n",
              "          const docLinkHtml = 'Like what you see? Visit the ' +\n",
              "            '<a target=\"_blank\" href=https://colab.research.google.com/notebooks/data_table.ipynb>data table notebook</a>'\n",
              "            + ' to learn more about interactive tables.';\n",
              "          element.innerHTML = '';\n",
              "          dataTable['output_type'] = 'display_data';\n",
              "          await google.colab.output.renderOutput(dataTable, element);\n",
              "          const docLink = document.createElement('div');\n",
              "          docLink.innerHTML = docLinkHtml;\n",
              "          element.appendChild(docLink);\n",
              "        }\n",
              "      </script>\n",
              "    </div>\n",
              "  </div>\n",
              "  "
            ]
          },
          "metadata": {},
          "execution_count": 4
        }
      ]
    },
    {
      "cell_type": "code",
      "source": [
        "#Since it is the only variable with the same values in both columns, we combined those columns in excel.\n"
      ],
      "metadata": {
        "id": "Ik7n99x5-WdN"
      },
      "execution_count": null,
      "outputs": []
    },
    {
      "cell_type": "code",
      "source": [
        "nba = nba.rename({'Tm': 'Team'},axis = \"columns\")\n",
        "#There are no detected typos in column names except \"Tm\". We fixed it by using .rename()\n"
      ],
      "metadata": {
        "id": "5O2XP_sK-az2"
      },
      "execution_count": null,
      "outputs": []
    },
    {
      "cell_type": "code",
      "source": [
        "nba.duplicated().sum()\n",
        "# In here, we checked if we have duplicated data."
      ],
      "metadata": {
        "id": "oTJ_vNI1Xdrn",
        "colab": {
          "base_uri": "https://localhost:8080/"
        },
        "outputId": "1191b360-fc9f-4eb2-cb42-57bfa77c8ce0"
      },
      "execution_count": null,
      "outputs": [
        {
          "output_type": "execute_result",
          "data": {
            "text/plain": [
              "0"
            ]
          },
          "metadata": {},
          "execution_count": 7
        }
      ]
    },
    {
      "cell_type": "code",
      "source": [
        "#\tWe checked whether the white spaces in the string values or not. "
      ],
      "metadata": {
        "id": "5_QYck-H-iV_"
      },
      "execution_count": null,
      "outputs": []
    },
    {
      "cell_type": "code",
      "source": [
        "nba[\"Conference\"]=nba[\"Conference\"].str.lower()\n",
        "nba[\"Conference\"]=nba[\"Conference\"].str.upper()\n",
        "nba[\"Conference\"]=nba[\"Conference\"].str.title()\n",
        "nba[\"Conference\"].loc[nba[\"Conference\"]==\"Eastern  Confference\"]=\"Eastern Conference\"\n",
        "nba[\"Conference\"].loc[nba[\"Conference\"]==\"Western  Confference\"]=\"Western Conference\"    \n",
        "\n",
        "nba[\"Conference\"][26]\n",
        "nba[\"Conference\"].value_counts()\n",
        "\n",
        "\n",
        "# We checked if all strings are in the same format.\n",
        "  \n",
        "# We verified that all levels of the categories are unique by looking at the string value counts. We fixed them."
      ],
      "metadata": {
        "colab": {
          "base_uri": "https://localhost:8080/"
        },
        "id": "EkyAAgn5mV8E",
        "outputId": "d691344d-5a5c-41e4-9157-e1f2ee1c10af"
      },
      "execution_count": null,
      "outputs": [
        {
          "output_type": "stream",
          "name": "stderr",
          "text": [
            "/usr/local/lib/python3.8/dist-packages/pandas/core/indexing.py:1732: SettingWithCopyWarning: \n",
            "A value is trying to be set on a copy of a slice from a DataFrame\n",
            "\n",
            "See the caveats in the documentation: https://pandas.pydata.org/pandas-docs/stable/user_guide/indexing.html#returning-a-view-versus-a-copy\n",
            "  self._setitem_single_block(indexer, value, name)\n"
          ]
        },
        {
          "output_type": "execute_result",
          "data": {
            "text/plain": [
              "Eastern Conference    77\n",
              "Western Conference    67\n",
              "Name: Conference, dtype: int64"
            ]
          },
          "metadata": {},
          "execution_count": 9
        }
      ]
    },
    {
      "cell_type": "code",
      "source": [
        "nba[\"Division\"]=nba[\"Division\"].str.lower()\n",
        "nba[\"Division\"]=nba[\"Division\"].str.upper()\n",
        "nba[\"Division\"]=nba[\"Division\"].str.title()\n",
        "nba[\"Division\"].loc[nba[\"Division\"]==\"Southeast  Division\"]=\"Southeast Division\"\n",
        "nba[\"Division\"].loc[nba[\"Division\"]==\"Pacific  Division\"]=\"Pacific Division\"\n",
        "nba[\"Division\"].loc[nba[\"Division\"]==\"Central  Division\"]=\"Central Division\"\n",
        "nba[\"Division\"].loc[nba[\"Division\"]==\"Southwest  Division\"]=\"Southwest Division\"\n",
        "nba[\"Division\"].value_counts()\n",
        "\n",
        "# We checked if all strings are in the same format.\n",
        "\n",
        "#We verified that all levels of the categories are unique by looking at the string value counts. We fixed them.\n",
        "  "
      ],
      "metadata": {
        "colab": {
          "base_uri": "https://localhost:8080/"
        },
        "id": "SyZ401Oop7Iy",
        "outputId": "d8b12d63-edc3-49a2-a5c7-dd932a4ca4a8"
      },
      "execution_count": null,
      "outputs": [
        {
          "output_type": "execute_result",
          "data": {
            "text/plain": [
              "Central Division      31\n",
              "Southeast Division    30\n",
              "Southwest Division    22\n",
              "Northwest Division    21\n",
              "Pacific Division      20\n",
              "Atlantic Division     18\n",
              "Name: Division, dtype: int64"
            ]
          },
          "metadata": {},
          "execution_count": 10
        }
      ]
    },
    {
      "cell_type": "code",
      "source": [
        "nba.info() \n",
        "# We checked the data types once more to confirm that categorical variables are objects, and numerical variables are floats. "
      ],
      "metadata": {
        "colab": {
          "base_uri": "https://localhost:8080/"
        },
        "id": "zZnmxKhyvkHj",
        "outputId": "ecf1d9e4-4518-4486-8f1b-daafb5738bd6"
      },
      "execution_count": null,
      "outputs": [
        {
          "output_type": "stream",
          "name": "stdout",
          "text": [
            "<class 'pandas.core.frame.DataFrame'>\n",
            "RangeIndex: 161 entries, 0 to 160\n",
            "Data columns (total 31 columns):\n",
            " #   Column      Non-Null Count  Dtype  \n",
            "---  ------      --------------  -----  \n",
            " 0   Pos         155 non-null    object \n",
            " 1   Salary      113 non-null    float64\n",
            " 2   Age         144 non-null    float64\n",
            " 3   Team        141 non-null    object \n",
            " 4   G           157 non-null    float64\n",
            " 5   GS          144 non-null    float64\n",
            " 6   MP          139 non-null    float64\n",
            " 7   FG          142 non-null    float64\n",
            " 8   FGA         141 non-null    float64\n",
            " 9   FG%         144 non-null    float64\n",
            " 10  3P          139 non-null    float64\n",
            " 11  3PA         141 non-null    float64\n",
            " 12  3P%         129 non-null    float64\n",
            " 13  2P          142 non-null    float64\n",
            " 14  2PA         147 non-null    float64\n",
            " 15  2P%         139 non-null    float64\n",
            " 16  eFG%        136 non-null    float64\n",
            " 17  FT          143 non-null    float64\n",
            " 18  FTA         142 non-null    float64\n",
            " 19  FT%         132 non-null    float64\n",
            " 20  ORB         144 non-null    float64\n",
            " 21  DRB         142 non-null    float64\n",
            " 22  TRB         148 non-null    float64\n",
            " 23  AST         148 non-null    float64\n",
            " 24  STL         141 non-null    float64\n",
            " 25  BLK         136 non-null    float64\n",
            " 26  TOV         142 non-null    float64\n",
            " 27  PF          141 non-null    float64\n",
            " 28  PTS         142 non-null    float64\n",
            " 29  Conference  144 non-null    object \n",
            " 30  Division    142 non-null    object \n",
            "dtypes: float64(27), object(4)\n",
            "memory usage: 39.1+ KB\n"
          ]
        }
      ]
    },
    {
      "cell_type": "code",
      "source": [
        "nba.describe()  \n",
        "#We noticed meaningless values in our variables by looking at descriptive statistics."
      ],
      "metadata": {
        "colab": {
          "base_uri": "https://localhost:8080/",
          "height": 329
        },
        "id": "JTnqbtwnxnGm",
        "outputId": "1513db89-e005-43c6-c0be-aa556f3282c6"
      },
      "execution_count": null,
      "outputs": [
        {
          "output_type": "execute_result",
          "data": {
            "text/plain": [
              "             Salary         Age           G          GS          MP  \\\n",
              "count  1.130000e+02  144.000000  157.000000  144.000000  139.000000   \n",
              "mean   1.061947e+24   25.812500   34.961783   19.006944   20.209353   \n",
              "std    3.094590e+24    3.947149   22.687364   23.673034    9.556111   \n",
              "min    0.000000e+00   19.000000    0.000000    0.000000    1.800000   \n",
              "25%    2.641691e+06   22.750000   15.000000    0.000000   13.050000   \n",
              "50%    6.350000e+06   25.500000   33.000000    6.000000   21.800000   \n",
              "75%    1.812500e+07   28.250000   56.000000   34.500000   27.850000   \n",
              "max    1.000000e+25   36.000000   72.000000   72.000000   36.200000   \n",
              "\n",
              "               FG         FGA         FG%          3P         3PA  ...  \\\n",
              "count  142.000000  141.000000  144.000000  139.000000  141.000000  ...   \n",
              "mean     3.283099    7.243972    0.433208   44.033813    2.703546  ...   \n",
              "std      2.404310    4.942561    0.123702  203.568324    2.429562  ...   \n",
              "min      0.000000    0.000000    0.000000    0.000000    0.000000  ...   \n",
              "25%      1.400000    3.600000    0.401750    0.200000    0.600000  ...   \n",
              "50%      2.900000    6.200000    0.439000    0.800000    2.200000  ...   \n",
              "75%      4.675000   10.000000    0.489500    1.650000    4.200000  ...   \n",
              "max     11.200000   23.000000    0.724000  999.000000   12.700000  ...   \n",
              "\n",
              "              FT%         ORB         DRB         TRB         AST         STL  \\\n",
              "count  132.000000  144.000000  142.000000  148.000000  148.000000  141.000000   \n",
              "mean     0.754152    0.970833    3.007042    3.964865    1.741892    0.635461   \n",
              "std      0.124031    0.841068    1.812472    2.397075    1.544841    0.396437   \n",
              "min      0.455000    0.000000    0.100000    0.400000    0.000000    0.000000   \n",
              "25%      0.667000    0.400000    1.700000    2.175000    0.675000    0.300000   \n",
              "50%      0.769000    0.750000    2.850000    3.550000    1.400000    0.600000   \n",
              "75%      0.834250    1.300000    4.000000    5.325000    2.225000    0.900000   \n",
              "max      1.000000    4.700000    9.600000   13.500000    8.600000    2.100000   \n",
              "\n",
              "              BLK         TOV          PF         PTS  \n",
              "count  136.000000  142.000000  141.000000  142.000000  \n",
              "mean     0.442647    1.062676    1.626950    8.895070  \n",
              "std      0.430956    0.793556    0.772554    6.485361  \n",
              "min      0.000000    0.000000    0.000000    0.000000  \n",
              "25%      0.100000    0.500000    1.100000    4.075000  \n",
              "50%      0.300000    0.900000    1.700000    7.750000  \n",
              "75%      0.600000    1.475000    2.100000   12.350000  \n",
              "max      2.000000    4.300000    3.800000   32.000000  \n",
              "\n",
              "[8 rows x 27 columns]"
            ],
            "text/html": [
              "\n",
              "  <div id=\"df-4aed2ccf-abbe-42e1-9920-b3fd7712c0fb\">\n",
              "    <div class=\"colab-df-container\">\n",
              "      <div>\n",
              "<style scoped>\n",
              "    .dataframe tbody tr th:only-of-type {\n",
              "        vertical-align: middle;\n",
              "    }\n",
              "\n",
              "    .dataframe tbody tr th {\n",
              "        vertical-align: top;\n",
              "    }\n",
              "\n",
              "    .dataframe thead th {\n",
              "        text-align: right;\n",
              "    }\n",
              "</style>\n",
              "<table border=\"1\" class=\"dataframe\">\n",
              "  <thead>\n",
              "    <tr style=\"text-align: right;\">\n",
              "      <th></th>\n",
              "      <th>Salary</th>\n",
              "      <th>Age</th>\n",
              "      <th>G</th>\n",
              "      <th>GS</th>\n",
              "      <th>MP</th>\n",
              "      <th>FG</th>\n",
              "      <th>FGA</th>\n",
              "      <th>FG%</th>\n",
              "      <th>3P</th>\n",
              "      <th>3PA</th>\n",
              "      <th>...</th>\n",
              "      <th>FT%</th>\n",
              "      <th>ORB</th>\n",
              "      <th>DRB</th>\n",
              "      <th>TRB</th>\n",
              "      <th>AST</th>\n",
              "      <th>STL</th>\n",
              "      <th>BLK</th>\n",
              "      <th>TOV</th>\n",
              "      <th>PF</th>\n",
              "      <th>PTS</th>\n",
              "    </tr>\n",
              "  </thead>\n",
              "  <tbody>\n",
              "    <tr>\n",
              "      <th>count</th>\n",
              "      <td>1.130000e+02</td>\n",
              "      <td>144.000000</td>\n",
              "      <td>157.000000</td>\n",
              "      <td>144.000000</td>\n",
              "      <td>139.000000</td>\n",
              "      <td>142.000000</td>\n",
              "      <td>141.000000</td>\n",
              "      <td>144.000000</td>\n",
              "      <td>139.000000</td>\n",
              "      <td>141.000000</td>\n",
              "      <td>...</td>\n",
              "      <td>132.000000</td>\n",
              "      <td>144.000000</td>\n",
              "      <td>142.000000</td>\n",
              "      <td>148.000000</td>\n",
              "      <td>148.000000</td>\n",
              "      <td>141.000000</td>\n",
              "      <td>136.000000</td>\n",
              "      <td>142.000000</td>\n",
              "      <td>141.000000</td>\n",
              "      <td>142.000000</td>\n",
              "    </tr>\n",
              "    <tr>\n",
              "      <th>mean</th>\n",
              "      <td>1.061947e+24</td>\n",
              "      <td>25.812500</td>\n",
              "      <td>34.961783</td>\n",
              "      <td>19.006944</td>\n",
              "      <td>20.209353</td>\n",
              "      <td>3.283099</td>\n",
              "      <td>7.243972</td>\n",
              "      <td>0.433208</td>\n",
              "      <td>44.033813</td>\n",
              "      <td>2.703546</td>\n",
              "      <td>...</td>\n",
              "      <td>0.754152</td>\n",
              "      <td>0.970833</td>\n",
              "      <td>3.007042</td>\n",
              "      <td>3.964865</td>\n",
              "      <td>1.741892</td>\n",
              "      <td>0.635461</td>\n",
              "      <td>0.442647</td>\n",
              "      <td>1.062676</td>\n",
              "      <td>1.626950</td>\n",
              "      <td>8.895070</td>\n",
              "    </tr>\n",
              "    <tr>\n",
              "      <th>std</th>\n",
              "      <td>3.094590e+24</td>\n",
              "      <td>3.947149</td>\n",
              "      <td>22.687364</td>\n",
              "      <td>23.673034</td>\n",
              "      <td>9.556111</td>\n",
              "      <td>2.404310</td>\n",
              "      <td>4.942561</td>\n",
              "      <td>0.123702</td>\n",
              "      <td>203.568324</td>\n",
              "      <td>2.429562</td>\n",
              "      <td>...</td>\n",
              "      <td>0.124031</td>\n",
              "      <td>0.841068</td>\n",
              "      <td>1.812472</td>\n",
              "      <td>2.397075</td>\n",
              "      <td>1.544841</td>\n",
              "      <td>0.396437</td>\n",
              "      <td>0.430956</td>\n",
              "      <td>0.793556</td>\n",
              "      <td>0.772554</td>\n",
              "      <td>6.485361</td>\n",
              "    </tr>\n",
              "    <tr>\n",
              "      <th>min</th>\n",
              "      <td>0.000000e+00</td>\n",
              "      <td>19.000000</td>\n",
              "      <td>0.000000</td>\n",
              "      <td>0.000000</td>\n",
              "      <td>1.800000</td>\n",
              "      <td>0.000000</td>\n",
              "      <td>0.000000</td>\n",
              "      <td>0.000000</td>\n",
              "      <td>0.000000</td>\n",
              "      <td>0.000000</td>\n",
              "      <td>...</td>\n",
              "      <td>0.455000</td>\n",
              "      <td>0.000000</td>\n",
              "      <td>0.100000</td>\n",
              "      <td>0.400000</td>\n",
              "      <td>0.000000</td>\n",
              "      <td>0.000000</td>\n",
              "      <td>0.000000</td>\n",
              "      <td>0.000000</td>\n",
              "      <td>0.000000</td>\n",
              "      <td>0.000000</td>\n",
              "    </tr>\n",
              "    <tr>\n",
              "      <th>25%</th>\n",
              "      <td>2.641691e+06</td>\n",
              "      <td>22.750000</td>\n",
              "      <td>15.000000</td>\n",
              "      <td>0.000000</td>\n",
              "      <td>13.050000</td>\n",
              "      <td>1.400000</td>\n",
              "      <td>3.600000</td>\n",
              "      <td>0.401750</td>\n",
              "      <td>0.200000</td>\n",
              "      <td>0.600000</td>\n",
              "      <td>...</td>\n",
              "      <td>0.667000</td>\n",
              "      <td>0.400000</td>\n",
              "      <td>1.700000</td>\n",
              "      <td>2.175000</td>\n",
              "      <td>0.675000</td>\n",
              "      <td>0.300000</td>\n",
              "      <td>0.100000</td>\n",
              "      <td>0.500000</td>\n",
              "      <td>1.100000</td>\n",
              "      <td>4.075000</td>\n",
              "    </tr>\n",
              "    <tr>\n",
              "      <th>50%</th>\n",
              "      <td>6.350000e+06</td>\n",
              "      <td>25.500000</td>\n",
              "      <td>33.000000</td>\n",
              "      <td>6.000000</td>\n",
              "      <td>21.800000</td>\n",
              "      <td>2.900000</td>\n",
              "      <td>6.200000</td>\n",
              "      <td>0.439000</td>\n",
              "      <td>0.800000</td>\n",
              "      <td>2.200000</td>\n",
              "      <td>...</td>\n",
              "      <td>0.769000</td>\n",
              "      <td>0.750000</td>\n",
              "      <td>2.850000</td>\n",
              "      <td>3.550000</td>\n",
              "      <td>1.400000</td>\n",
              "      <td>0.600000</td>\n",
              "      <td>0.300000</td>\n",
              "      <td>0.900000</td>\n",
              "      <td>1.700000</td>\n",
              "      <td>7.750000</td>\n",
              "    </tr>\n",
              "    <tr>\n",
              "      <th>75%</th>\n",
              "      <td>1.812500e+07</td>\n",
              "      <td>28.250000</td>\n",
              "      <td>56.000000</td>\n",
              "      <td>34.500000</td>\n",
              "      <td>27.850000</td>\n",
              "      <td>4.675000</td>\n",
              "      <td>10.000000</td>\n",
              "      <td>0.489500</td>\n",
              "      <td>1.650000</td>\n",
              "      <td>4.200000</td>\n",
              "      <td>...</td>\n",
              "      <td>0.834250</td>\n",
              "      <td>1.300000</td>\n",
              "      <td>4.000000</td>\n",
              "      <td>5.325000</td>\n",
              "      <td>2.225000</td>\n",
              "      <td>0.900000</td>\n",
              "      <td>0.600000</td>\n",
              "      <td>1.475000</td>\n",
              "      <td>2.100000</td>\n",
              "      <td>12.350000</td>\n",
              "    </tr>\n",
              "    <tr>\n",
              "      <th>max</th>\n",
              "      <td>1.000000e+25</td>\n",
              "      <td>36.000000</td>\n",
              "      <td>72.000000</td>\n",
              "      <td>72.000000</td>\n",
              "      <td>36.200000</td>\n",
              "      <td>11.200000</td>\n",
              "      <td>23.000000</td>\n",
              "      <td>0.724000</td>\n",
              "      <td>999.000000</td>\n",
              "      <td>12.700000</td>\n",
              "      <td>...</td>\n",
              "      <td>1.000000</td>\n",
              "      <td>4.700000</td>\n",
              "      <td>9.600000</td>\n",
              "      <td>13.500000</td>\n",
              "      <td>8.600000</td>\n",
              "      <td>2.100000</td>\n",
              "      <td>2.000000</td>\n",
              "      <td>4.300000</td>\n",
              "      <td>3.800000</td>\n",
              "      <td>32.000000</td>\n",
              "    </tr>\n",
              "  </tbody>\n",
              "</table>\n",
              "<p>8 rows × 27 columns</p>\n",
              "</div>\n",
              "      <button class=\"colab-df-convert\" onclick=\"convertToInteractive('df-4aed2ccf-abbe-42e1-9920-b3fd7712c0fb')\"\n",
              "              title=\"Convert this dataframe to an interactive table.\"\n",
              "              style=\"display:none;\">\n",
              "        \n",
              "  <svg xmlns=\"http://www.w3.org/2000/svg\" height=\"24px\"viewBox=\"0 0 24 24\"\n",
              "       width=\"24px\">\n",
              "    <path d=\"M0 0h24v24H0V0z\" fill=\"none\"/>\n",
              "    <path d=\"M18.56 5.44l.94 2.06.94-2.06 2.06-.94-2.06-.94-.94-2.06-.94 2.06-2.06.94zm-11 1L8.5 8.5l.94-2.06 2.06-.94-2.06-.94L8.5 2.5l-.94 2.06-2.06.94zm10 10l.94 2.06.94-2.06 2.06-.94-2.06-.94-.94-2.06-.94 2.06-2.06.94z\"/><path d=\"M17.41 7.96l-1.37-1.37c-.4-.4-.92-.59-1.43-.59-.52 0-1.04.2-1.43.59L10.3 9.45l-7.72 7.72c-.78.78-.78 2.05 0 2.83L4 21.41c.39.39.9.59 1.41.59.51 0 1.02-.2 1.41-.59l7.78-7.78 2.81-2.81c.8-.78.8-2.07 0-2.86zM5.41 20L4 18.59l7.72-7.72 1.47 1.35L5.41 20z\"/>\n",
              "  </svg>\n",
              "      </button>\n",
              "      \n",
              "  <style>\n",
              "    .colab-df-container {\n",
              "      display:flex;\n",
              "      flex-wrap:wrap;\n",
              "      gap: 12px;\n",
              "    }\n",
              "\n",
              "    .colab-df-convert {\n",
              "      background-color: #E8F0FE;\n",
              "      border: none;\n",
              "      border-radius: 50%;\n",
              "      cursor: pointer;\n",
              "      display: none;\n",
              "      fill: #1967D2;\n",
              "      height: 32px;\n",
              "      padding: 0 0 0 0;\n",
              "      width: 32px;\n",
              "    }\n",
              "\n",
              "    .colab-df-convert:hover {\n",
              "      background-color: #E2EBFA;\n",
              "      box-shadow: 0px 1px 2px rgba(60, 64, 67, 0.3), 0px 1px 3px 1px rgba(60, 64, 67, 0.15);\n",
              "      fill: #174EA6;\n",
              "    }\n",
              "\n",
              "    [theme=dark] .colab-df-convert {\n",
              "      background-color: #3B4455;\n",
              "      fill: #D2E3FC;\n",
              "    }\n",
              "\n",
              "    [theme=dark] .colab-df-convert:hover {\n",
              "      background-color: #434B5C;\n",
              "      box-shadow: 0px 1px 3px 1px rgba(0, 0, 0, 0.15);\n",
              "      filter: drop-shadow(0px 1px 2px rgba(0, 0, 0, 0.3));\n",
              "      fill: #FFFFFF;\n",
              "    }\n",
              "  </style>\n",
              "\n",
              "      <script>\n",
              "        const buttonEl =\n",
              "          document.querySelector('#df-4aed2ccf-abbe-42e1-9920-b3fd7712c0fb button.colab-df-convert');\n",
              "        buttonEl.style.display =\n",
              "          google.colab.kernel.accessAllowed ? 'block' : 'none';\n",
              "\n",
              "        async function convertToInteractive(key) {\n",
              "          const element = document.querySelector('#df-4aed2ccf-abbe-42e1-9920-b3fd7712c0fb');\n",
              "          const dataTable =\n",
              "            await google.colab.kernel.invokeFunction('convertToInteractive',\n",
              "                                                     [key], {});\n",
              "          if (!dataTable) return;\n",
              "\n",
              "          const docLinkHtml = 'Like what you see? Visit the ' +\n",
              "            '<a target=\"_blank\" href=https://colab.research.google.com/notebooks/data_table.ipynb>data table notebook</a>'\n",
              "            + ' to learn more about interactive tables.';\n",
              "          element.innerHTML = '';\n",
              "          dataTable['output_type'] = 'display_data';\n",
              "          await google.colab.output.renderOutput(dataTable, element);\n",
              "          const docLink = document.createElement('div');\n",
              "          docLink.innerHTML = docLinkHtml;\n",
              "          element.appendChild(docLink);\n",
              "        }\n",
              "      </script>\n",
              "    </div>\n",
              "  </div>\n",
              "  "
            ]
          },
          "metadata": {},
          "execution_count": 12
        }
      ]
    },
    {
      "cell_type": "code",
      "source": [
        "nba['Salary'] = nba['Salary'].replace(0,np.NaN,regex=True)\n",
        "nba['Salary'] = nba['Salary'].replace(1E+25,np.NaN,regex=True)\n",
        "mean_of_Salary=np.mean(nba[\"Salary\"])\n",
        "nba['Salary'] = nba['Salary'].replace(np.NaN,mean_of_Salary,regex=True)\n",
        "\n",
        "#We deleted the values containing \"E\" in the Salary column because they were illogical data. \n",
        "#Since the blank values after deleting the values are 36% of the total column, we filled in the blanks using mean."
      ],
      "metadata": {
        "id": "YgjuO3N99X4n"
      },
      "execution_count": null,
      "outputs": []
    },
    {
      "cell_type": "code",
      "source": [
        "mean_of_age=np.mean(nba[\"Age\"])\n",
        "nba['Age'] = nba['Age'].replace(np.NaN,mean_of_age,regex=True)\n",
        " \n",
        "# We filled the NaN values in our variable by using mean."
      ],
      "metadata": {
        "id": "Hyg-kkQNvlIV"
      },
      "execution_count": null,
      "outputs": []
    },
    {
      "cell_type": "code",
      "source": [
        "mode_of_Team=mode(nba[\"Team\"])\n",
        "mode_of_Team=\"ORL\"\n",
        "nba['Team'] = nba['Team'].replace(np.NaN,mode_of_Team,regex=True)\n",
        "\n",
        "#We filled the NaN values in our variable by using mode."
      ],
      "metadata": {
        "id": "Mf9L7hLuz9L2"
      },
      "execution_count": null,
      "outputs": []
    },
    {
      "cell_type": "code",
      "source": [
        "mean_of_G=np.mean(nba[\"G\"])\n",
        "nba['G'] = nba['G'].replace(np.NaN,mean_of_G,regex=True)\n",
        "\n",
        "# We filled the NaN values in our variable by using mean."
      ],
      "metadata": {
        "id": "FjaHN36_CMlM"
      },
      "execution_count": null,
      "outputs": []
    },
    {
      "cell_type": "code",
      "source": [
        "mean_of_MP=np.mean(nba[\"MP\"])\n",
        "nba['MP'] = nba['MP'].replace(np.NaN,mean_of_MP,regex=True)\n",
        "\n",
        "# We filled the NaN values in our variable by using mean."
      ],
      "metadata": {
        "id": "cSlmMiErCw_F"
      },
      "execution_count": null,
      "outputs": []
    },
    {
      "cell_type": "code",
      "source": [
        "mean_of_FG=np.mean(nba[\"FG\"])\n",
        "nba['FG'] = nba['FG'].replace(np.NaN,mean_of_FG,regex=True)\n",
        "\n",
        "# We filled the NaN values in our variable by using mean."
      ],
      "metadata": {
        "id": "fsq5uGY6ws-t"
      },
      "execution_count": null,
      "outputs": []
    },
    {
      "cell_type": "code",
      "source": [
        "mean_of_FGA=np.mean(nba[\"FGA\"])\n",
        "nba['FGA'] = nba['FGA'].replace(np.NaN,mean_of_FGA,regex=True)\n",
        "\n",
        "# We filled the NaN values in our variable by using mean."
      ],
      "metadata": {
        "id": "lIlSY7FBxEHQ"
      },
      "execution_count": null,
      "outputs": []
    },
    {
      "cell_type": "code",
      "source": [
        "mean_of_FGper=np.mean(nba[\"FG%\"])\n",
        "nba['FG%'] = nba['FG%'].replace(np.NaN,mean_of_FGper,regex=True)\n",
        "\n",
        "# We filled the NaN values in our variable by using mean."
      ],
      "metadata": {
        "id": "uIlmmVzAxIAd"
      },
      "execution_count": null,
      "outputs": []
    },
    {
      "cell_type": "code",
      "source": [
        "nba['3P'] = nba['3P'].replace(999,np.NaN,regex=True)\n",
        "mean_of_3P=np.mean(nba[\"3P\"])\n",
        "nba['3P'] = nba['3P'].replace(np.NaN,mean_of_3P,regex=True)\n",
        "\n",
        "#We filled the illogical values in our variable with NaN and then filled the NaN values with using mean.\n",
        "\n"
      ],
      "metadata": {
        "id": "dr7m7Dxn1jKV"
      },
      "execution_count": null,
      "outputs": []
    },
    {
      "cell_type": "code",
      "source": [
        "mean_of_3PA=np.mean(nba[\"3PA\"])\n",
        "nba['3PA'] = nba['3PA'].replace(np.NaN,mean_of_3PA,regex=True)\n",
        "\n",
        "# We filled the NaN values in our variable by using mean."
      ],
      "metadata": {
        "id": "VJ8uA6BPxVHj"
      },
      "execution_count": null,
      "outputs": []
    },
    {
      "cell_type": "code",
      "source": [
        "nba['3P%'] = nba['3P%'].replace(1,0,regex=True)\n",
        "mean_of_3Pper=np.mean(nba[\"3P%\"])\n",
        "nba['3P%'] = nba['3P%'].replace(np.NaN,mean_of_3Pper,regex=True)\n",
        "\n",
        "#We filled the illogical values in our variable with NaN and then filled the NaN values with using mean.\n"
      ],
      "metadata": {
        "id": "outBBiRc8KN0"
      },
      "execution_count": null,
      "outputs": []
    },
    {
      "cell_type": "code",
      "source": [
        "mean_of_2P=np.mean(nba[\"2P\"])\n",
        "nba['2P'] = nba['2P'].replace(np.NaN,mean_of_2P,regex=True)\n",
        "\n",
        "# We filled the NaN values in our variable by using mean."
      ],
      "metadata": {
        "id": "nnxNIEzHB_J0"
      },
      "execution_count": null,
      "outputs": []
    },
    {
      "cell_type": "code",
      "source": [
        "mean_of_2PA=np.mean(nba[\"2PA\"])\n",
        "nba['2PA'] = nba['2PA'].replace(np.NaN,mean_of_2PA,regex=True)\n",
        "\n",
        "# We filled the NaN values in our variable by using mean."
      ],
      "metadata": {
        "id": "PUODvXKXxk-k"
      },
      "execution_count": null,
      "outputs": []
    },
    {
      "cell_type": "code",
      "source": [
        "mean_of_2Pper=np.mean(nba[\"2P%\"])\n",
        "nba['2P%'] = nba['2P%'].replace(np.NaN,mean_of_2Pper,regex=True)\n",
        "\n",
        "# We filled the NaN values in our variable by using mean."
      ],
      "metadata": {
        "id": "vZqHCguxxr3R"
      },
      "execution_count": null,
      "outputs": []
    },
    {
      "cell_type": "code",
      "source": [
        "mean_of_eFGper=np.mean(nba[\"eFG%\"])\n",
        "nba['eFG%'] = nba['eFG%'].replace(np.NaN,mean_of_eFGper,regex=True)\n",
        "\n",
        "# We filled the NaN values in our variable by using mean."
      ],
      "metadata": {
        "id": "YTm8-P18xz8i"
      },
      "execution_count": null,
      "outputs": []
    },
    {
      "cell_type": "code",
      "source": [
        "mean_of_FT=np.mean(nba[\"FT\"])\n",
        "nba['FT'] = nba['FT'].replace(np.NaN,mean_of_FT,regex=True)\n",
        "\n",
        "# We filled the NaN values in our variable by using mean."
      ],
      "metadata": {
        "id": "jqQ2pSREx-Y7"
      },
      "execution_count": null,
      "outputs": []
    },
    {
      "cell_type": "code",
      "source": [
        "mean_of_FTA=np.mean(nba[\"FTA\"])\n",
        "nba['FTA'] = nba['FTA'].replace(np.NaN,mean_of_FTA,regex=True)\n",
        "\n",
        "# We filled the NaN values in our variable by using mean."
      ],
      "metadata": {
        "id": "SG649aLNyF2U"
      },
      "execution_count": null,
      "outputs": []
    },
    {
      "cell_type": "code",
      "source": [
        "mean_of_FTper=np.mean(nba[\"FT%\"])\n",
        "nba['FT%'] = nba['FT%'].replace(np.NaN,mean_of_FTper,regex=True)\n",
        "\n",
        "# We filled the NaN values in our variable by using mean."
      ],
      "metadata": {
        "id": "hcmwJl9cyKb4"
      },
      "execution_count": null,
      "outputs": []
    },
    {
      "cell_type": "code",
      "source": [
        "mean_of_ORB=np.mean(nba[\"ORB\"])\n",
        "nba['ORB'] = nba['ORB'].replace(np.NaN,mean_of_ORB,regex=True)\n",
        "\n",
        "# We filled the NaN values in our variable by using mean."
      ],
      "metadata": {
        "id": "B5GVF6Rmysii"
      },
      "execution_count": null,
      "outputs": []
    },
    {
      "cell_type": "code",
      "source": [
        "mean_of_DRB=np.mean(nba[\"DRB\"])\n",
        "nba['DRB'] = nba['DRB'].replace(np.NaN,mean_of_DRB,regex=True)\n",
        "\n",
        "# We filled the NaN values in our variable by using mean."
      ],
      "metadata": {
        "id": "5nwDy53zyyLX"
      },
      "execution_count": null,
      "outputs": []
    },
    {
      "cell_type": "code",
      "source": [
        "mean_of_TRB=np.mean(nba[\"TRB\"])\n",
        "nba['TRB'] = nba['TRB'].replace(np.NaN,mean_of_TRB,regex=True)\n",
        "\n",
        "# We filled the NaN values in our variable by using mean."
      ],
      "metadata": {
        "id": "pmPReGoLy4HB"
      },
      "execution_count": null,
      "outputs": []
    },
    {
      "cell_type": "code",
      "source": [
        "mean_of_AST=np.mean(nba[\"AST\"])\n",
        "nba['AST'] = nba['AST'].replace(np.NaN,mean_of_AST,regex=True)\n",
        "\n",
        "# We filled the NaN values in our variable by using mean."
      ],
      "metadata": {
        "id": "HlMxhzwDy7kB"
      },
      "execution_count": null,
      "outputs": []
    },
    {
      "cell_type": "code",
      "source": [
        "mean_of_STL=np.mean(nba[\"STL\"])\n",
        "nba['STL'] = nba['STL'].replace(np.NaN,mean_of_STL,regex=True)\n",
        "\n",
        "# We filled the NaN values in our variable by using mean."
      ],
      "metadata": {
        "id": "puaGjcZZzAOG"
      },
      "execution_count": null,
      "outputs": []
    },
    {
      "cell_type": "code",
      "source": [
        "mean_of_BLK=np.mean(nba[\"BLK\"])\n",
        "nba['BLK'] = nba['BLK'].replace(np.NaN,mean_of_BLK,regex=True)\n",
        "\n",
        "# We filled the NaN values in our variable by using mean. "
      ],
      "metadata": {
        "id": "hbDXTpeXzJQH"
      },
      "execution_count": null,
      "outputs": []
    },
    {
      "cell_type": "code",
      "source": [
        "mean_of_TOV=np.mean(nba[\"TOV\"])\n",
        "nba['TOV'] = nba['TOV'].replace(np.NaN,mean_of_TOV,regex=True)\n",
        "\n",
        "# We filled the NaN values in our variable by using mean."
      ],
      "metadata": {
        "id": "ujWhgksyzOHG"
      },
      "execution_count": null,
      "outputs": []
    },
    {
      "cell_type": "code",
      "source": [
        "mean_of_PF=np.mean(nba[\"PF\"])\n",
        "nba['PF'] = nba['PF'].replace(np.NaN,mean_of_PF,regex=True)\n",
        "\n",
        "# We filled the NaN values in our variable by using mean."
      ],
      "metadata": {
        "id": "HaNDsFVXzSZH"
      },
      "execution_count": null,
      "outputs": []
    },
    {
      "cell_type": "code",
      "source": [
        "mean_of_PTS=np.mean(nba[\"PTS\"])\n",
        "nba['PTS'] = nba['PTS'].replace(np.NaN,mean_of_PTS,regex=True)\n",
        "\n",
        "# We filled the NaN values in our variable by using mean."
      ],
      "metadata": {
        "id": "_GNhT4c6zZbT"
      },
      "execution_count": null,
      "outputs": []
    },
    {
      "cell_type": "code",
      "source": [
        "mode_of_Conference=mode(nba[\"Conference\"])\n",
        "nba['Conference'] = nba['Conference'].replace(np.NaN,mode_of_Conference,regex=True)\n",
        "\n",
        "# We filled the NaN values in our variable by using mode."
      ],
      "metadata": {
        "id": "mgPpm4Kw7Mgr"
      },
      "execution_count": null,
      "outputs": []
    },
    {
      "cell_type": "code",
      "source": [
        "mode_of_Division=mode(nba[\"Division\"])\n",
        "nba['Division'] = nba['Division'].replace(np.NaN,mode_of_Division,regex=True)\n",
        "\n",
        "# We filled the NaN values in our variable by using mode."
      ],
      "metadata": {
        "id": "hysAtV-A2JxL"
      },
      "execution_count": null,
      "outputs": []
    },
    {
      "cell_type": "code",
      "source": [
        "nba = nba.drop(nba.index[160])\n",
        "nba = nba.drop(nba.index[159])\n",
        "nba = nba.drop(nba.index[158])\n",
        "\n",
        "# There were rows with values for only one variable in our dataset, and we deleted them due to insufficient data.\n",
        "\n",
        "nba = nba.drop(nba.index[141])\n",
        "nba = nba.drop(nba.index[101])\n",
        "nba = nba.drop(nba.index[100])\n",
        "\n",
        "# We had three rows with too many 0 values in our dataset, which we deleted because it was meaningless.\n",
        "\n",
        "nba.drop('GS', inplace=True, axis=1)\n",
        "\n",
        "#We dropped the GS column because we had another column with the same variable values"
      ],
      "metadata": {
        "id": "kUFD-eYdrfSr"
      },
      "execution_count": null,
      "outputs": []
    },
    {
      "cell_type": "code",
      "source": [
        "nba.info()\n",
        "#Finally we checked if there are null values in each column"
      ],
      "metadata": {
        "colab": {
          "base_uri": "https://localhost:8080/"
        },
        "id": "ry5hBL_DrknT",
        "outputId": "ed8f3715-0ba0-461f-9c48-d4ff1ddcd93c"
      },
      "execution_count": null,
      "outputs": [
        {
          "output_type": "stream",
          "name": "stdout",
          "text": [
            "<class 'pandas.core.frame.DataFrame'>\n",
            "Int64Index: 155 entries, 0 to 157\n",
            "Data columns (total 30 columns):\n",
            " #   Column      Non-Null Count  Dtype  \n",
            "---  ------      --------------  -----  \n",
            " 0   Pos         155 non-null    object \n",
            " 1   Salary      155 non-null    float64\n",
            " 2   Age         155 non-null    float64\n",
            " 3   Team        155 non-null    object \n",
            " 4   G           155 non-null    float64\n",
            " 5   MP          155 non-null    float64\n",
            " 6   FG          155 non-null    float64\n",
            " 7   FGA         155 non-null    float64\n",
            " 8   FG%         155 non-null    float64\n",
            " 9   3P          155 non-null    float64\n",
            " 10  3PA         155 non-null    float64\n",
            " 11  3P%         155 non-null    float64\n",
            " 12  2P          155 non-null    float64\n",
            " 13  2PA         155 non-null    float64\n",
            " 14  2P%         155 non-null    float64\n",
            " 15  eFG%        155 non-null    float64\n",
            " 16  FT          155 non-null    float64\n",
            " 17  FTA         155 non-null    float64\n",
            " 18  FT%         155 non-null    float64\n",
            " 19  ORB         155 non-null    float64\n",
            " 20  DRB         155 non-null    float64\n",
            " 21  TRB         155 non-null    float64\n",
            " 22  AST         155 non-null    float64\n",
            " 23  STL         155 non-null    float64\n",
            " 24  BLK         155 non-null    float64\n",
            " 25  TOV         155 non-null    float64\n",
            " 26  PF          155 non-null    float64\n",
            " 27  PTS         155 non-null    float64\n",
            " 28  Conference  155 non-null    object \n",
            " 29  Division    155 non-null    object \n",
            "dtypes: float64(26), object(4)\n",
            "memory usage: 37.5+ KB\n"
          ]
        }
      ]
    },
    {
      "cell_type": "code",
      "source": [
        "nba.to_excel(\"nba_salary_clean.xlsx\",float_format=\"%.2f\") \n",
        "#We printed out our cleaned data and started plotting our graphs."
      ],
      "metadata": {
        "id": "XJoUAffJ2C15"
      },
      "execution_count": null,
      "outputs": []
    }
  ]
}